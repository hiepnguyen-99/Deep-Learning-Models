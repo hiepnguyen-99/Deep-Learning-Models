{
 "cells": [
  {
   "cell_type": "code",
   "execution_count": 9,
   "metadata": {},
   "outputs": [],
   "source": [
    "import torch\n",
    "import torch.nn as nn\n",
    "import torch.optim as optim\n",
    "from torch.utils.data import Dataset, DataLoader\n",
    "from torch.nn.utils.rnn import pad_sequence"
   ]
  },
  {
   "cell_type": "code",
   "execution_count": 10,
   "metadata": {},
   "outputs": [],
   "source": [
    "# Đọc dữ liệu từ file\n",
    "def read_data(file_path):\n",
    "    sentences = []\n",
    "    labels = []\n",
    "    with open(file_path, \"r\") as f:\n",
    "        sentence = []\n",
    "        label = []\n",
    "        for line in f:\n",
    "            line = line.strip()\n",
    "            if not line:\n",
    "                if sentence:\n",
    "                    sentences.append(sentence)\n",
    "                    labels.append(label)\n",
    "                    sentence = []\n",
    "                    label = []\n",
    "                continue\n",
    "            word, tag = line.split()\n",
    "            sentence.append(word)\n",
    "            label.append(tag)\n",
    "        if sentence:\n",
    "            sentences.append(sentence)\n",
    "            labels.append(label)\n",
    "    return sentences, labels\n",
    "\n",
    "# Định nghĩa ánh xạ từ/ngữ nghĩa sang chỉ số\n",
    "def build_vocab(data):\n",
    "    vocab = {\"<PAD>\": 0, \"<UNK>\": 1}\n",
    "    for sentence in data:\n",
    "        for token in sentence:\n",
    "            if token not in vocab:\n",
    "                vocab[token] = len(vocab)\n",
    "    return vocab\n",
    "\n",
    "# Tạo ánh xạ từ và nhãn\n",
    "file_path = \"../data/named-entity/eng.train\"  # Đường dẫn file\n",
    "sentences, labels = read_data(file_path)\n",
    "word2idx = build_vocab(sentences)\n",
    "tag2idx = build_vocab(labels)\n",
    "idx2tag = {v: k for k, v in tag2idx.items()}"
   ]
  },
  {
   "cell_type": "code",
   "execution_count": 11,
   "metadata": {},
   "outputs": [],
   "source": [
    "class NERDataset(Dataset):\n",
    "    def __init__(self, sentences, labels, word2idx, tag2idx):\n",
    "        self.sentences = [[word2idx.get(word, word2idx[\"<UNK>\"]) for word in sentence] for sentence in sentences]\n",
    "        self.labels = [[tag2idx[tag] for tag in label] for label in labels]\n",
    "\n",
    "    def __len__(self):\n",
    "        return len(self.sentences)\n",
    "\n",
    "    def __getitem__(self, idx):\n",
    "        return torch.tensor(self.sentences[idx]), torch.tensor(self.labels[idx])\n",
    "\n",
    "def collate_fn(batch):\n",
    "    sentences, labels = zip(*batch)\n",
    "    sentences = pad_sequence(sentences, batch_first=True, padding_value=word2idx[\"<PAD>\"])\n",
    "    labels = pad_sequence(labels, batch_first=True, padding_value=tag2idx[\"<PAD>\"])\n",
    "    return sentences, labels\n",
    "\n",
    "dataset = NERDataset(sentences, labels, word2idx, tag2idx)\n",
    "dataloader = DataLoader(dataset, batch_size=16, collate_fn=collate_fn, shuffle=True)\n"
   ]
  },
  {
   "cell_type": "code",
   "execution_count": 12,
   "metadata": {},
   "outputs": [],
   "source": [
    "class NERModel(nn.Module):\n",
    "    def __init__(self, vocab_size, tag_size, embedding_dim, hidden_dim):\n",
    "        super(NERModel, self).__init__()\n",
    "        self.embedding = nn.Embedding(vocab_size, embedding_dim, padding_idx=word2idx[\"<PAD>\"])\n",
    "        self.lstm = nn.LSTM(embedding_dim, hidden_dim, batch_first=True, bidirectional=True)\n",
    "        self.fc = nn.Linear(hidden_dim * 2, tag_size)\n",
    "    \n",
    "    def forward(self, x):\n",
    "        embeddings = self.embedding(x)\n",
    "        lstm_out, _ = self.lstm(embeddings)\n",
    "        out = self.fc(lstm_out)\n",
    "        return out\n",
    "\n",
    "model = NERModel(vocab_size=len(word2idx), tag_size=len(tag2idx), embedding_dim=100, hidden_dim=128)\n"
   ]
  },
  {
   "cell_type": "code",
   "execution_count": 13,
   "metadata": {},
   "outputs": [
    {
     "name": "stdout",
     "output_type": "stream",
     "text": [
      "Epoch 1, Loss: 538.4523\n",
      "Epoch 2, Loss: 221.9930\n",
      "Epoch 3, Loss: 117.1243\n",
      "Epoch 4, Loss: 60.4298\n",
      "Epoch 5, Loss: 28.4835\n",
      "Epoch 6, Loss: 12.5023\n",
      "Epoch 7, Loss: 5.2217\n",
      "Epoch 8, Loss: 2.6239\n",
      "Epoch 9, Loss: 1.4631\n",
      "Epoch 10, Loss: 1.1386\n"
     ]
    }
   ],
   "source": [
    "from torch.optim import Adam\n",
    "import torch.nn.functional as F\n",
    "\n",
    "optimizer = Adam(model.parameters(), lr=0.001)\n",
    "\n",
    "for epoch in range(10):\n",
    "    model.train()\n",
    "    total_loss = 0\n",
    "    for sentences, labels in dataloader:\n",
    "        optimizer.zero_grad()\n",
    "        outputs = model(sentences)\n",
    "        outputs = outputs.view(-1, len(tag2idx))\n",
    "        labels = labels.view(-1)\n",
    "\n",
    "        loss = F.cross_entropy(outputs, labels, ignore_index=tag2idx[\"<PAD>\"])\n",
    "        loss.backward()\n",
    "        optimizer.step()\n",
    "        total_loss += loss.item()\n",
    "\n",
    "    print(f\"Epoch {epoch + 1}, Loss: {total_loss:.4f}\")"
   ]
  }
 ],
 "metadata": {
  "kernelspec": {
   "display_name": "Python 3",
   "language": "python",
   "name": "python3"
  },
  "language_info": {
   "codemirror_mode": {
    "name": "ipython",
    "version": 3
   },
   "file_extension": ".py",
   "mimetype": "text/x-python",
   "name": "python",
   "nbconvert_exporter": "python",
   "pygments_lexer": "ipython3",
   "version": "3.10.10"
  }
 },
 "nbformat": 4,
 "nbformat_minor": 2
}
